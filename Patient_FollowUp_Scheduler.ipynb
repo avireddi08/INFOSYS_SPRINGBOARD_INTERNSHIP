{
  "nbformat": 4,
  "nbformat_minor": 0,
  "metadata": {
    "colab": {
      "provenance": []
    },
    "kernelspec": {
      "name": "python3",
      "display_name": "Python 3"
    },
    "language_info": {
      "name": "python"
    }
  },
  "cells": [
    {
      "cell_type": "code",
      "execution_count": null,
      "metadata": {
        "colab": {
          "base_uri": "https://localhost:8080/"
        },
        "id": "qf2k_dlJRXGj",
        "outputId": "3d8b49ed-e158-4256-a5e7-d68d8553f017"
      },
      "outputs": [
        {
          "output_type": "stream",
          "name": "stdout",
          "text": [
            "Requirement already satisfied: requests in /usr/local/lib/python3.11/dist-packages (2.32.3)\n",
            "Requirement already satisfied: charset-normalizer<4,>=2 in /usr/local/lib/python3.11/dist-packages (from requests) (3.4.1)\n",
            "Requirement already satisfied: idna<4,>=2.5 in /usr/local/lib/python3.11/dist-packages (from requests) (3.10)\n",
            "Requirement already satisfied: urllib3<3,>=1.21.1 in /usr/local/lib/python3.11/dist-packages (from requests) (2.3.0)\n",
            "Requirement already satisfied: certifi>=2017.4.17 in /usr/local/lib/python3.11/dist-packages (from requests) (2024.12.14)\n"
          ]
        }
      ],
      "source": [
        "!pip install requests"
      ]
    },
    {
      "cell_type": "code",
      "source": [
        "\n",
        "import requests\n",
        "import json\n",
        "\n",
        "# Cal.com API details\n",
        "CAL_API_URL = \"https://api.cal.com/v2/bookings\"\n",
        "API_KEY = \"cal_live_81e4cc2119abc9531cee97b019e556b0\"  # Replace with your actual Cal.com API Key\n",
        "EVENT_TYPE_ID = 1723036  # Replace with the actual event type ID\n",
        "\n",
        "# Sample Data: Replace this with actual patient data\n",
        "patients = [\n",
        "    {\n",
        "        \"name\": \"John Doe\",\n",
        "        \"email\": \"avireddi15@gmail.com\", # Using sample email\n",
        "        \"severity\": \"High\",\n",
        "        \"follow_up_time\": \"2025-02-05T10:00:00.000Z\"\n",
        "    },\n",
        "    {\n",
        "        \"name\": \"Jane Smith\",\n",
        "        \"email\": \"jane.smith@example.com\",\n",
        "        \"severity\": \"Low\",\n",
        "        \"follow_up_time\": \"2025-02-04T04:00:00.000Z\"\n",
        "    }\n",
        "]\n",
        "\n",
        "# Function to create a booking on Cal.com API\n",
        "def schedule_cal_event(patient):\n",
        "    # Prepare the payload for the API request\n",
        "    payload = json.dumps({\n",
        "        \"start\": patient[\"follow_up_time\"],  # Follow-up time (provided in UTC)\n",
        "        \"eventTypeId\": EVENT_TYPE_ID,\n",
        "        \"attendee\": {\n",
        "            \"name\": patient[\"name\"],\n",
        "            \"email\": patient[\"email\"],\n",
        "            \"timeZone\": \"Asia/Kolkata\",  # Update as needed based on patient's timezone\n",
        "            \"language\": \"en\"\n",
        "        },\n",
        "        \"guests\": [\n",
        "            \"support_staff@example.com\"  # Add support staff or doctors' emails if needed\n",
        "        ]\n",
        "    })\n",
        "\n",
        "    headers = {\n",
        "        'Authorization': f'Bearer {API_KEY}',  # Using the Cal.com API key for authorization\n",
        "        'Content-Type': 'application/json',\n",
        "        'cal-api-version': '2024-08-13'\n",
        "    }\n",
        "\n",
        "    # Make the POST request to schedule the booking\n",
        "    response = requests.post(CAL_API_URL, headers=headers, data=payload)\n",
        "\n",
        "    # Handle the API response\n",
        "    if response.status_code == 201:  # Successfully created booking\n",
        "        response_data = response.json()\n",
        "        meeting_url = response_data.get(\"data\", {}).get(\"meetingUrl\", \"No meeting URL\")\n",
        "        start_time = response_data.get(\"data\", {}).get(\"start\", \"No start time\")\n",
        "\n",
        "        # Print simplified booking information\n",
        "        print(f\"Booking created for {patient['name']}!\")\n",
        "        print(f\"Follow-up Meeting Scheduled: {start_time}\")\n",
        "        print(f\"Meeting URL: {meeting_url}\")\n",
        "    else:\n",
        "        print(\"Failed to create booking. Error:\")\n",
        "        print(f\"Status Code: {response.status_code}\")\n",
        "        print(json.dumps(response.json(), indent=4))\n",
        "\n",
        "# Function to schedule events for high-risk patients\n",
        "def schedule_follow_up_for_high_risk_patients():\n",
        "    for patient in patients:\n",
        "        if patient[\"severity\"] == \"High\":\n",
        "            print(f\"\\nScheduling follow-up for high-risk patient: {patient['name']} (Risk Level: {patient['severity']})\")\n",
        "            schedule_cal_event(patient)\n",
        "        else:\n",
        "            print(f\"Skipping follow-up for {patient['name']} (Risk Level: {patient['severity']})\")\n",
        "\n",
        "if __name__ == \"__main__\":\n",
        "    schedule_follow_up_for_high_risk_patients()\n"
      ],
      "metadata": {
        "colab": {
          "base_uri": "https://localhost:8080/"
        },
        "id": "mULPdIjW4UWz",
        "outputId": "c951c1b9-1777-4864-fa0c-3b07f28d9bf1"
      },
      "execution_count": 6,
      "outputs": [
        {
          "output_type": "stream",
          "name": "stdout",
          "text": [
            "\n",
            "Scheduling follow-up for high-risk patient: John Doe (Risk Level: High)\n",
            "Booking created for John Doe!\n",
            "Follow-up Meeting Scheduled: 2025-02-05T10:00:00.000Z\n",
            "Meeting URL: https://meet.google.com/eim-jihc-uyp\n",
            "Skipping follow-up for Jane Smith (Risk Level: Low)\n"
          ]
        }
      ]
    }
  ]
}